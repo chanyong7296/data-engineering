{
 "cells": [
  {
   "cell_type": "code",
   "execution_count": 32,
   "id": "37a65dd8-045f-49be-8d72-acb611c554f4",
   "metadata": {
    "tags": []
   },
   "outputs": [],
   "source": [
    "#1\n",
    "lovely_loveseat_description = \"Lovely Loveseat. Tufted polyester blend on wood. 32 inches high x 40 inches wide x 30 inches deep. Red or white.\""
   ]
  },
  {
   "cell_type": "code",
   "execution_count": 33,
   "id": "830b51a9-a17f-4c66-bd6d-30c139164e61",
   "metadata": {
    "tags": []
   },
   "outputs": [],
   "source": [
    "#2\n",
    "lovely_loveseat_price =  254.00"
   ]
  },
  {
   "cell_type": "code",
   "execution_count": 34,
   "id": "c08a0770-8369-4a61-aa69-892e0ef5574f",
   "metadata": {
    "tags": []
   },
   "outputs": [],
   "source": [
    "#3\n",
    "luxurious_lamp_description = \"Stylish Settee. Faux leather on birch. 29.50 inches high x 54.75 inches wide x 28 inches deep. Black.\""
   ]
  },
  {
   "cell_type": "code",
   "execution_count": 35,
   "id": "50ef69e8-cfd6-411f-9898-8e8917c0aedf",
   "metadata": {
    "tags": []
   },
   "outputs": [],
   "source": [
    "#4\n",
    "stylish_settee_price = 180.50"
   ]
  },
  {
   "cell_type": "code",
   "execution_count": 36,
   "id": "b645e26f-3e81-42fa-89b3-8cf93f3de50a",
   "metadata": {
    "tags": []
   },
   "outputs": [],
   "source": [
    "#5\n",
    "luxurious_lamp_description = \"Luxurious Lamp. Glass and iron. 36 inches tall. Brown with cream shade.\""
   ]
  },
  {
   "cell_type": "code",
   "execution_count": 37,
   "id": "c3830322-7e75-4726-9322-cd20f86643b4",
   "metadata": {
    "tags": []
   },
   "outputs": [],
   "source": [
    "#6\n",
    "luxurious_lamp_price = 52.15"
   ]
  },
  {
   "cell_type": "code",
   "execution_count": 38,
   "id": "b3daadb3-e0e6-48a9-a276-a77ec2b3e22c",
   "metadata": {
    "tags": []
   },
   "outputs": [],
   "source": [
    "#7\n",
    "sales_tax = 0.08"
   ]
  },
  {
   "cell_type": "code",
   "execution_count": 39,
   "id": "548566b6-1861-4308-b56d-58398e501b83",
   "metadata": {
    "tags": []
   },
   "outputs": [],
   "source": [
    "#8\n",
    "customer_one_total = 0"
   ]
  },
  {
   "cell_type": "code",
   "execution_count": 40,
   "id": "7c94f938-ad9b-4f60-a062-f8d1c7cd3513",
   "metadata": {
    "tags": []
   },
   "outputs": [],
   "source": [
    "#9\n",
    "customer_one_itemization = \"\""
   ]
  },
  {
   "cell_type": "code",
   "execution_count": 41,
   "id": "a1b07b9e-ee63-44b1-9087-e3f4e8665827",
   "metadata": {
    "tags": []
   },
   "outputs": [],
   "source": [
    "#10\n",
    "customer_one_total = 254.00"
   ]
  },
  {
   "cell_type": "code",
   "execution_count": 42,
   "id": "67443efc-9470-4b8d-aa7b-986db2afd872",
   "metadata": {
    "tags": []
   },
   "outputs": [],
   "source": [
    "#11\n",
    "customer_one_itemization = lovely_loveseat_description"
   ]
  },
  {
   "cell_type": "code",
   "execution_count": 43,
   "id": "b1bd391d-7dc0-4acc-8f38-a676ffa28232",
   "metadata": {
    "tags": []
   },
   "outputs": [],
   "source": [
    "#12\n",
    "customer_one_total = 254.00 + 52.15"
   ]
  },
  {
   "cell_type": "code",
   "execution_count": 44,
   "id": "a23b004c-eeb0-4082-a19f-2c986031b57d",
   "metadata": {
    "tags": []
   },
   "outputs": [],
   "source": [
    "#13\n",
    "customer_one_itemization = lovely_loveseat_description + luxurious_lamp_description"
   ]
  },
  {
   "cell_type": "code",
   "execution_count": 50,
   "id": "4ccb1b8d-98c1-4d91-b3be-c4a8e5e7f4a8",
   "metadata": {
    "tags": []
   },
   "outputs": [],
   "source": [
    "#14\n",
    "customer_one_tax = customer_one_total + sales_tax"
   ]
  },
  {
   "cell_type": "code",
   "execution_count": 54,
   "id": "d026a111-b36b-4e63-998a-aa20041f5e70",
   "metadata": {
    "tags": []
   },
   "outputs": [],
   "source": [
    "#15\n",
    "customer_one_total = 254.00 + 52.15 + 0.08"
   ]
  },
  {
   "cell_type": "code",
   "execution_count": 55,
   "id": "2808d891-568e-4442-b0d5-f4ccf8a9af66",
   "metadata": {
    "tags": []
   },
   "outputs": [
    {
     "name": "stdout",
     "output_type": "stream",
     "text": [
      "Customer One Items:\n"
     ]
    }
   ],
   "source": [
    "#16\n",
    "print (\"Customer One Items:\")"
   ]
  },
  {
   "cell_type": "code",
   "execution_count": 56,
   "id": "864e601a-1f72-4e6e-8044-e7c26a028238",
   "metadata": {
    "tags": []
   },
   "outputs": [
    {
     "name": "stdout",
     "output_type": "stream",
     "text": [
      "Lovely Loveseat. Tufted polyester blend on wood. 32 inches high x 40 inches wide x 30 inches deep. Red or white.Luxurious Lamp. Glass and iron. 36 inches tall. Brown with cream shade.\n"
     ]
    }
   ],
   "source": [
    "#17\n",
    "print (customer_one_itemization)"
   ]
  },
  {
   "cell_type": "code",
   "execution_count": null,
   "id": "1486dc43-4df1-4073-8bf5-4549f5c800bc",
   "metadata": {},
   "outputs": [],
   "source": []
  }
 ],
 "metadata": {
  "kernelspec": {
   "display_name": "Python 3 (ipykernel)",
   "language": "python",
   "name": "python3"
  },
  "language_info": {
   "codemirror_mode": {
    "name": "ipython",
    "version": 3
   },
   "file_extension": ".py",
   "mimetype": "text/x-python",
   "name": "python",
   "nbconvert_exporter": "python",
   "pygments_lexer": "ipython3",
   "version": "3.11.4"
  }
 },
 "nbformat": 4,
 "nbformat_minor": 5
}
