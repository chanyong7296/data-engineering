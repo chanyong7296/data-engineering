{
 "cells": [
  {
   "cell_type": "code",
   "execution_count": 47,
   "id": "8f3958eb-04ea-482a-ae3f-2ed42a12c480",
   "metadata": {
    "tags": []
   },
   "outputs": [],
   "source": [
    "\n",
    "hairstyles = [\"bouffant\", \"pixie\", \"dreadlocks\", \"crew\", \"bowl\", \"bob\", \"mohawk\", \"flattop\"]"
   ]
  },
  {
   "cell_type": "code",
   "execution_count": 48,
   "id": "5710310e-ba44-4664-ac89-ed86783db1e0",
   "metadata": {
    "tags": []
   },
   "outputs": [],
   "source": [
    "\n",
    "prices = [30, 25, 40, 20, 20, 35, 50, 35]"
   ]
  },
  {
   "cell_type": "code",
   "execution_count": 49,
   "id": "f9a1be32-f177-439f-87f1-e794c24260d2",
   "metadata": {
    "tags": []
   },
   "outputs": [],
   "source": [
    "\n",
    "last_week = [2, 3, 5, 8, 4, 4, 6, 2]"
   ]
  },
  {
   "cell_type": "code",
   "execution_count": 50,
   "id": "83479e4f-81b5-4802-845e-b91fb50a80ec",
   "metadata": {},
   "outputs": [],
   "source": [
    "\n",
    "hairstyles = [\"price, last_week\"]"
   ]
  },
  {
   "cell_type": "code",
   "execution_count": 51,
   "id": "30aa88e3-736c-498c-958b-9b286ae35841",
   "metadata": {
    "tags": []
   },
   "outputs": [],
   "source": [
    "bouffant_prices = [prices ,30 ]\n",
    "bouffant_last_week = [last_week , 2]"
   ]
  },
  {
   "cell_type": "code",
   "execution_count": 52,
   "id": "c97c45b9-5b71-43e9-a016-73b8cd3d33a2",
   "metadata": {
    "tags": []
   },
   "outputs": [],
   "source": [
    "#1\n",
    "total_price = 0"
   ]
  },
  {
   "cell_type": "code",
   "execution_count": 53,
   "id": "e4611811-ccd3-4282-b3d9-342e37285eca",
   "metadata": {
    "tags": []
   },
   "outputs": [],
   "source": [
    "#2\n",
    "\n",
    "prices = [30, 25, 40, 20, 20, 35, 50, 35]\n",
    "for price in prices:\n",
    "    total_price += price"
   ]
  },
  {
   "cell_type": "code",
   "execution_count": 54,
   "id": "9461a5fc-5686-48fd-9333-76a41e39a6e3",
   "metadata": {
    "tags": []
   },
   "outputs": [],
   "source": [
    "#3\n",
    "number_of_prices = len(prices)\n",
    "average_price = total_price / number_of_prices"
   ]
  },
  {
   "cell_type": "code",
   "execution_count": 55,
   "id": "a2621dbb-cce4-4371-8539-2b9224b92365",
   "metadata": {
    "tags": []
   },
   "outputs": [
    {
     "name": "stdout",
     "output_type": "stream",
     "text": [
      "31.875\n"
     ]
    }
   ],
   "source": [
    "#4\n",
    "print(average_price)"
   ]
  },
  {
   "cell_type": "code",
   "execution_count": 56,
   "id": "321faaee-b2e0-4c7a-9e5b-9c8e397c685a",
   "metadata": {
    "tags": []
   },
   "outputs": [],
   "source": [
    "#5\n",
    "new_prices = [price - 5 for price in prices]"
   ]
  },
  {
   "cell_type": "code",
   "execution_count": 57,
   "id": "9396221d-86fb-4b5f-9ab8-f35c624fb3c9",
   "metadata": {
    "tags": []
   },
   "outputs": [
    {
     "name": "stdout",
     "output_type": "stream",
     "text": [
      "[25, 20, 35, 15, 15, 30, 45, 30]\n"
     ]
    }
   ],
   "source": [
    "#6\n",
    "print(new_prices)"
   ]
  },
  {
   "cell_type": "code",
   "execution_count": 58,
   "id": "66715c70-ae7a-4210-946d-0c4897a5fa77",
   "metadata": {
    "tags": []
   },
   "outputs": [],
   "source": [
    "#7\n",
    "total_revenue = 0\n"
   ]
  },
  {
   "cell_type": "code",
   "execution_count": 78,
   "id": "650de6da-3506-46ad-9b0b-024cbd9610cc",
   "metadata": {
    "tags": []
   },
   "outputs": [
    {
     "ename": "SyntaxError",
     "evalue": "incomplete input (4289740764.py, line 2)",
     "output_type": "error",
     "traceback": [
      "\u001b[1;36m  Cell \u001b[1;32mIn[78], line 2\u001b[1;36m\u001b[0m\n\u001b[1;33m    total_revenue = sum([prices[i] * last_week[i] for i in range(len(hairstyles))]\u001b[0m\n\u001b[1;37m                                                                                  ^\u001b[0m\n\u001b[1;31mSyntaxError\u001b[0m\u001b[1;31m:\u001b[0m incomplete input\n"
     ]
    }
   ],
   "source": [
    "#8\n",
    "\n",
    "total_revenue = sum([prices[i] * last_week[i] for i in range(len(hairstyles))]\n"
   ]
  },
  {
   "cell_type": "code",
   "execution_count": 71,
   "id": "4afefd2c-28dc-4dfe-ae26-59823bc88c61",
   "metadata": {
    "tags": []
   },
   "outputs": [
    {
     "ename": "IndentationError",
     "evalue": "unexpected indent (561234303.py, line 5)",
     "output_type": "error",
     "traceback": [
      "\u001b[1;36m  Cell \u001b[1;32mIn[71], line 5\u001b[1;36m\u001b[0m\n\u001b[1;33m    total_revenue += revenue\u001b[0m\n\u001b[1;37m    ^\u001b[0m\n\u001b[1;31mIndentationError\u001b[0m\u001b[1;31m:\u001b[0m unexpected indent\n"
     ]
    }
   ],
   "source": [
    "#9\n",
    "hairstyles_length = len(hairstyles)\n",
    "for i in range(hairstyles_length):\n"
   ]
  },
  {
   "cell_type": "code",
   "execution_count": null,
   "id": "d06f6f19-3d91-4cd2-9cd8-ca071a80486e",
   "metadata": {},
   "outputs": [],
   "source": []
  },
  {
   "cell_type": "code",
   "execution_count": null,
   "id": "ced977ff-6898-4da9-a1fb-a0cd2bb91135",
   "metadata": {},
   "outputs": [],
   "source": []
  },
  {
   "cell_type": "code",
   "execution_count": 82,
   "id": "09dbd55c-fc97-47e5-beb5-5349a4cc9eb8",
   "metadata": {
    "tags": []
   },
   "outputs": [
    {
     "name": "stdout",
     "output_type": "stream",
     "text": [
      "0.0\n"
     ]
    }
   ],
   "source": [
    "#11\n",
    "total_revenue = 0\n",
    "average_daily_revenue = total_revenue / 7\n",
    "print (average_daily_revenue)"
   ]
  },
  {
   "cell_type": "code",
   "execution_count": 80,
   "id": "09a43b6e-c4b6-4bde-9b68-cfb00a8a752e",
   "metadata": {
    "tags": []
   },
   "outputs": [],
   "source": [
    "#12\n",
    "new_prices = [ 5, 20, 35, 15, 15, 30, 45, 30]\n",
    "cuts_under_30 = [hairstyles[i] for i in range(len(new_prices)) if new_prices[i] < 30]"
   ]
  },
  {
   "cell_type": "code",
   "execution_count": 81,
   "id": "ff72c45c-b6fc-46e9-90d4-b93dc8a263c3",
   "metadata": {
    "tags": []
   },
   "outputs": [
    {
     "name": "stdout",
     "output_type": "stream",
     "text": [
      "[30, 25, 20, 20]\n"
     ]
    }
   ],
   "source": [
    "#13\n",
    "print(cuts_under_30)"
   ]
  },
  {
   "cell_type": "code",
   "execution_count": null,
   "id": "78e90a74-1aeb-41ce-8fe0-3c7e067c96ea",
   "metadata": {},
   "outputs": [],
   "source": []
  }
 ],
 "metadata": {
  "kernelspec": {
   "display_name": "Python 3 (ipykernel)",
   "language": "python",
   "name": "python3"
  },
  "language_info": {
   "codemirror_mode": {
    "name": "ipython",
    "version": 3
   },
   "file_extension": ".py",
   "mimetype": "text/x-python",
   "name": "python",
   "nbconvert_exporter": "python",
   "pygments_lexer": "ipython3",
   "version": "3.11.4"
  }
 },
 "nbformat": 4,
 "nbformat_minor": 5
}
