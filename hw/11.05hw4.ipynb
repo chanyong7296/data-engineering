{
 "cells": [
  {
   "cell_type": "code",
   "execution_count": null,
   "id": "19d62b6a-e1f9-42c1-a0d1-b2e80a4fd3fd",
   "metadata": {
    "tags": []
   },
   "outputs": [],
   "source": []
  },
  {
   "cell_type": "code",
   "execution_count": 30,
   "id": "72bfc56c-126f-44f8-967f-2a678b938fe8",
   "metadata": {
    "tags": []
   },
   "outputs": [
    {
     "name": "stdout",
     "output_type": "stream",
     "text": [
      "나의 조선시대 이름은: 김갑단\n"
     ]
    }
   ],
   "source": [
    "def get_my_chosun_name(family_name, month, day):\n",
    "    month_to_char = {\n",
    "        1: '갑', 2: '을', 3: '병', 4: '정', 5: '무', 6: '기',\n",
    "        7: '경', 8: '신', 9: '임', 10: '계', 11: '각', 12: '을'\n",
    "    }\n",
    "\n",
    "    if month < 1 or month > 12:\n",
    "        return \"유효하지 않은 월\"\n",
    "\n",
    "    family_name = family_name[:2]\n",
    "   \n",
    "    month_char = month_to_char[month]\n",
    "\n",
    "    day_second_letters = [\n",
    "        '봉', '구', '욕', '포', '똥', '삼', '식', '석', '놈', '님',\n",
    "        '년', '돌', '단', '득', '방', '질', '장', '걸', '래', '룡',\n",
    "        '동', '순', '자', '박', '창', '언', '것', '포', '만', '단', '국'\n",
    "    ]\n",
    "\n",
    "   \n",
    "    chosun_name = family_name + month_char + day_second_letters[day - 1]\n",
    "\n",
    "    return chosun_name\n",
    "\n",
    "my_chosun_name = get_my_chosun_name('김', 1, 13)\n",
    "print(f\"나의 조선시대 이름은: {my_chosun_name}\")"
   ]
  },
  {
   "cell_type": "code",
   "execution_count": null,
   "id": "30b6be4d-c2c6-46ee-b62e-b4014b44cc31",
   "metadata": {},
   "outputs": [],
   "source": []
  }
 ],
 "metadata": {
  "kernelspec": {
   "display_name": "Python 3 (ipykernel)",
   "language": "python",
   "name": "python3"
  },
  "language_info": {
   "codemirror_mode": {
    "name": "ipython",
    "version": 3
   },
   "file_extension": ".py",
   "mimetype": "text/x-python",
   "name": "python",
   "nbconvert_exporter": "python",
   "pygments_lexer": "ipython3",
   "version": "3.11.4"
  }
 },
 "nbformat": 4,
 "nbformat_minor": 5
}
