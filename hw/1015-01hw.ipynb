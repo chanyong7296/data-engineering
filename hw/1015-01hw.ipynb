{
 "cells": [
  {
   "cell_type": "code",
   "execution_count": 4,
   "id": "c6986bfc-d98b-44f0-8499-dd869e5680e9",
   "metadata": {
    "tags": []
   },
   "outputs": [
    {
     "name": "stdout",
     "output_type": "stream",
     "text": [
      "['physics', 'calculus', 'poetry', 'history']\n"
     ]
    }
   ],
   "source": [
    "#1\n",
    "subjects = [\"physics\", \"calculus\", \"poetry\", \"history\"]\n",
    "print(subjects)"
   ]
  },
  {
   "cell_type": "code",
   "execution_count": 5,
   "id": "34dbbc7c-cdbe-4f49-8a36-e5e7fe06a1af",
   "metadata": {
    "tags": []
   },
   "outputs": [
    {
     "name": "stdout",
     "output_type": "stream",
     "text": [
      "['98, 97, 85, 88']\n"
     ]
    }
   ],
   "source": [
    "#2\n",
    "grade = [\"98, 97, 85, 88\"]\n",
    "print(grade)"
   ]
  },
  {
   "cell_type": "code",
   "execution_count": 6,
   "id": "f357ea33-f42f-42f6-aec3-57a6bcb3e6ea",
   "metadata": {
    "tags": []
   },
   "outputs": [],
   "source": [
    "#3\n",
    "gradebook = [\"physics\", 98, \"calculus\", 97, \"poetry\", 85, \"history\", 88]"
   ]
  },
  {
   "cell_type": "code",
   "execution_count": 7,
   "id": "ce5aecea-0935-412e-be10-f7e8e161587a",
   "metadata": {
    "tags": []
   },
   "outputs": [
    {
     "name": "stdout",
     "output_type": "stream",
     "text": [
      "['physics', 98, 'calculus', 97, 'poetry', 85, 'history', 88]\n"
     ]
    }
   ],
   "source": [
    "#4\n",
    "print(gradebook)"
   ]
  },
  {
   "cell_type": "code",
   "execution_count": 8,
   "id": "c228d495-e594-4945-a9d2-da1c71728e2f",
   "metadata": {
    "tags": []
   },
   "outputs": [
    {
     "name": "stdout",
     "output_type": "stream",
     "text": [
      "['physics', 98, 'calculus', 97, 'poetry', 85, 'history', 88, ['computer science', 100]]\n"
     ]
    }
   ],
   "source": [
    "#5\n",
    "gradebook.append([\"computer science\",100])\n",
    "print(gradebook)"
   ]
  },
  {
   "cell_type": "code",
   "execution_count": 9,
   "id": "eec11a51-d073-4a56-99b1-d89152df4ed6",
   "metadata": {
    "tags": []
   },
   "outputs": [
    {
     "name": "stdout",
     "output_type": "stream",
     "text": [
      "['physics', 98, 'calculus', 97, 'poetry', 85, 'history', 88]\n"
     ]
    }
   ],
   "source": [
    "gradebook.remove([\"computer science\", 100])\n",
    "print(gradebook)"
   ]
  },
  {
   "cell_type": "code",
   "execution_count": 10,
   "id": "48dc5ec9-77ef-4b31-a95d-699bbacb1336",
   "metadata": {
    "tags": []
   },
   "outputs": [],
   "source": [
    "#6\n",
    "gradebook.append([\"visual arts\", 93])"
   ]
  },
  {
   "cell_type": "code",
   "execution_count": null,
   "id": "7abe9698-159d-4a71-8f79-acca4020cdc7",
   "metadata": {},
   "outputs": [],
   "source": []
  },
  {
   "cell_type": "code",
   "execution_count": 11,
   "id": "93e9688c-52c8-475e-a38f-2941284c7ebe",
   "metadata": {
    "tags": []
   },
   "outputs": [],
   "source": [
    "#7\n"
   ]
  },
  {
   "cell_type": "code",
   "execution_count": 15,
   "id": "5e401b40-833b-471a-bcbf-7a1e43489730",
   "metadata": {},
   "outputs": [
    {
     "ename": "ValueError",
     "evalue": "too many values to unpack (expected 2)",
     "output_type": "error",
     "traceback": [
      "\u001b[1;31m---------------------------------------------------------------------------\u001b[0m",
      "\u001b[1;31mValueError\u001b[0m                                Traceback (most recent call last)",
      "Cell \u001b[1;32mIn[15], line 2\u001b[0m\n\u001b[0;32m      1\u001b[0m \u001b[38;5;66;03m#8\u001b[39;00m\n\u001b[1;32m----> 2\u001b[0m \u001b[38;5;28;01mfor\u001b[39;00m subject, score \u001b[38;5;129;01min\u001b[39;00m gradebook:\n\u001b[0;32m      3\u001b[0m     \u001b[38;5;28;01mif\u001b[39;00m subject \u001b[38;5;241m==\u001b[39m \u001b[38;5;124m'\u001b[39m\u001b[38;5;124mpoetry\u001b[39m\u001b[38;5;124m'\u001b[39m:\n\u001b[0;32m      4\u001b[0m         gradebook\u001b[38;5;241m.\u001b[39mremove([subject, score])\n",
      "\u001b[1;31mValueError\u001b[0m: too many values to unpack (expected 2)"
     ]
    }
   ],
   "source": [
    "#8\n",
    "for subject, score in gradebook:\n",
    "    if subject == 'poetry':\n",
    "        gradebook.remove([subject, score])\n",
    "        gradebook.append([subject, 'Pass'])\n",
    "        break"
   ]
  },
  {
   "cell_type": "code",
   "execution_count": 20,
   "id": "466faefc-f054-445a-87c7-6c940a35ae74",
   "metadata": {
    "tags": []
   },
   "outputs": [
    {
     "ename": "TypeError",
     "evalue": "'list' object is not callable",
     "output_type": "error",
     "traceback": [
      "\u001b[1;31m---------------------------------------------------------------------------\u001b[0m",
      "\u001b[1;31mTypeError\u001b[0m                                 Traceback (most recent call last)",
      "Cell \u001b[1;32mIn[20], line 2\u001b[0m\n\u001b[0;32m      1\u001b[0m \u001b[38;5;66;03m#9\u001b[39;00m\n\u001b[1;32m----> 2\u001b[0m full_gradebook([\u001b[38;5;124m\"\u001b[39m\u001b[38;5;124mpoetry\u001b[39m\u001b[38;5;124m\"\u001b[39m])\u001b[38;5;241m.\u001b[39mappend(\u001b[38;5;124m\"\u001b[39m\u001b[38;5;124mPass\u001b[39m\u001b[38;5;124m\"\u001b[39m)\n",
      "\u001b[1;31mTypeError\u001b[0m: 'list' object is not callable"
     ]
    }
   ],
   "source": [
    "#9\n",
    "full_gradebook([\"poetry\"]).append(\"Pass\")"
   ]
  },
  {
   "cell_type": "code",
   "execution_count": 13,
   "id": "07143741-9d66-4c21-9014-266be40a6a37",
   "metadata": {},
   "outputs": [],
   "source": [
    "#10\n",
    "last_semester_gradebook = [[\"politics\", 80], [\"latin\", 96], [\"dance\", 97], [\"architecture\", 65]]"
   ]
  },
  {
   "cell_type": "code",
   "execution_count": 14,
   "id": "4d21ee95-00fe-4af4-8bc4-4796689ab286",
   "metadata": {},
   "outputs": [
    {
     "name": "stdout",
     "output_type": "stream",
     "text": [
      "[['politics', 80], ['latin', 96], ['dance', 97], ['architecture', 65], 'physics', 98, 'calculus', 97, 'poetry', 85, 'history', 88, ['visual arts', 93]]\n"
     ]
    }
   ],
   "source": [
    "#11\n",
    "full_gradebook = last_semester_gradebook + gradebook\n",
    "print(full_gradebook)"
   ]
  },
  {
   "cell_type": "code",
   "execution_count": null,
   "id": "0b5fa9be-7eba-4de0-9b25-0ee6f623a554",
   "metadata": {},
   "outputs": [],
   "source": []
  }
 ],
 "metadata": {
  "kernelspec": {
   "display_name": "Python 3 (ipykernel)",
   "language": "python",
   "name": "python3"
  },
  "language_info": {
   "codemirror_mode": {
    "name": "ipython",
    "version": 3
   },
   "file_extension": ".py",
   "mimetype": "text/x-python",
   "name": "python",
   "nbconvert_exporter": "python",
   "pygments_lexer": "ipython3",
   "version": "3.11.4"
  }
 },
 "nbformat": 4,
 "nbformat_minor": 5
}
